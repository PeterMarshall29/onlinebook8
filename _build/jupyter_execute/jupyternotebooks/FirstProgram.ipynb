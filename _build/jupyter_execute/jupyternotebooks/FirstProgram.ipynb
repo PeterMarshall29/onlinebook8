{
 "cells": [
  {
   "cell_type": "markdown",
   "id": "8c77c168-36f6-4aa2-9df8-62f6f4d62af2",
   "metadata": {
    "editable": true,
    "slideshow": {
     "slide_type": ""
    },
    "tags": []
   },
   "source": [
    "# First C++ program."
   ]
  },
  {
   "attachments": {},
   "cell_type": "markdown",
   "id": "21c9e63c-0895-4463-9321-93acc0c2732c",
   "metadata": {
    "editable": true,
    "slideshow": {
     "slide_type": ""
    },
    "tags": []
   },
   "source": [
    "Type the following code into the empty code window below.\n",
    "Please type the code exactly as shown. \n",
    "TIP computers cannot correct your mistakes for you!! \n",
    "\n",
    "\n",
    "```{code} cpp\n",
    ":name: Code1\n",
    ":caption: Hello World program.\n",
    ":emphasize-lines: 4\n",
    ":linenos:\n",
    "\n",
    "#include <iostream>\n",
    "int main()\n",
    "{\n",
    "\tstd :: cout << \"Hello, World!\\n\";\n",
    "\treturn 0;\n",
    "}\n",
    "```\n",
    "% In @Code1  the highlighted statement i\n",
    "In {ref}`Code 1<Code1>` the highlighted statement is the code that the programmer actually wants implemented - everything else is ..."
   ]
  },
  {
   "attachments": {},
   "cell_type": "markdown",
   "id": "48675ef8-41d2-4436-aaf5-3dbcf6584e0e",
   "metadata": {
    "editable": true,
    "slideshow": {
     "slide_type": ""
    },
    "tags": []
   },
   "source": [
    "Type the following code into the empty code window below.\n",
    "Please type the code exactly as shown. \n",
    "TIP computers cannot correct your mistakes for you!! \n",
    "\n",
    "\n",
    ":::{code} cpp\n",
    ":name: Code2\n",
    ":caption: Hello World program.\n",
    ":emphasize-lines: 4\n",
    ":linenos:\n",
    "\n",
    "int main()\n",
    "{\n",
    "\tstd :: cout << \"Hello, World!\\n\";\n",
    "\treturn 0;\n",
    "}\n",
    ":::\n",
    "\n",
    "In {ref}`Code 2<Code2>` the highlighted statement is the code that the programmer actually wants implemented - everything else is ..."
   ]
  },
  {
   "cell_type": "markdown",
   "id": "3dddb641-b5b0-4435-b553-e55097375821",
   "metadata": {
    "editable": true,
    "slideshow": {
     "slide_type": ""
    },
    "tags": []
   },
   "source": [
    "```{tip}\n",
    "To run a code block that has been edited, select the block (mouse click inside it), then simulaneously press {kbd}`Shift` + {kbd}`Enter`. \n",
    "```"
   ]
  },
  {
   "cell_type": "code",
   "execution_count": 1,
   "id": "3af6333f-a3e6-483a-912d-cc21e657eb41",
   "metadata": {
    "editable": true,
    "slideshow": {
     "slide_type": ""
    },
    "tags": []
   },
   "outputs": [
    {
     "data": {
      "text/markdown": [
       "Hello, World!\r\n",
       "\r\n"
      ]
     },
     "metadata": {},
     "output_type": "display_data"
    }
   ],
   "source": [
    "#include <iostream>\n",
    "int main()\n",
    "{\n",
    "\tstd :: cout << \"Hello, World!\\n\";\n",
    "\treturn 0;\n",
    "}"
   ]
  },
  {
   "cell_type": "markdown",
   "id": "a42df15d-680b-4a3c-b9d0-ac2ddae67be4",
   "metadata": {
    "editable": true,
    "slideshow": {
     "slide_type": ""
    },
    "tags": []
   },
   "source": [
    "```{important}\n",
    "Whitespace is ignored in C++.\n",
    "```"
   ]
  },
  {
   "cell_type": "markdown",
   "id": "e6aa9485-5866-4557-96cc-f05ee57b6666",
   "metadata": {
    "editable": true,
    "slideshow": {
     "slide_type": ""
    },
    "tags": []
   },
   "source": [
    "::::{exercise} \n",
    ":class: dropdown\n",
    ":label: Exercise1\n",
    "Add or remove spaces anywhere in your code and run the code again. \\\n",
    "Or try somthing else\\\n",
    "or something other\n",
    "\n",
    ":::{solution} Exercise1 \n",
    ":class: hint dropdown\n",
    ":label: Solution1\n",
    "\n",
    "1. answer 1\n",
    "2. answer 2\n",
    "- list q\n",
    "- list b\n",
    ":::\n",
    "::::"
   ]
  },
  {
   "cell_type": "markdown",
   "id": "c5ad72fd-f4c5-43ec-8dcb-0bc6edb157cd",
   "metadata": {
    "editable": true,
    "slideshow": {
     "slide_type": ""
    },
    "tags": []
   },
   "source": [
    "```{hint} \n",
    "the \"return 0\" line can left out in Windows and OS. \n",
    "Note: In linux a returned 0 confirms teh sucessful termination, any other number indictaes failure.\n",
    "```"
   ]
  },
  {
   "cell_type": "markdown",
   "id": "a89fcb00-b36a-47bf-9d48-e7dfaedbe869",
   "metadata": {
    "editable": true,
    "slideshow": {
     "slide_type": ""
    },
    "tags": []
   },
   "source": [
    "```{example}\n",
    "TRY: Changing the number after return to a different value\n",
    "```"
   ]
  },
  {
   "attachments": {},
   "cell_type": "markdown",
   "id": "d358f480-7764-4ea4-9113-6b59b948c22e",
   "metadata": {
    "editable": true,
    "slideshow": {
     "slide_type": ""
    },
    "tags": []
   },
   "source": [
    "NoteS: A semicolon is required at the end of each code statement – there are a few exceptions for example the first line  ```c++ include, includes ```\n",
    "\n",
    "C++ programs rely upon libraries – you will not get far without at least one of these, because they include basic ‘facilities’ needed such as the underpinnings of how to actually write to a terminal window etc.. \n",
    "\n",
    "<code> c++ #include </code: c++> is an instruction that the contents of the header files is copied into the cpp file at the point of inclusion when the build occurs.\n",
    "\n",
    "A file included by #include is often called a header file, which come in two types. Standard Library Header files have their names in angle brackets, with out a suffix e.g. <iostream>. User-define Header files the ending .h, or .hpp, and are placed in speech marks, such as #include “myHeader.h\" , are used for lists of values, functions to be reused, class and structures etc.. \n",
    "\n"
   ]
  },
  {
   "cell_type": "markdown",
   "id": "ebfa3a97-4187-4518-92f0-62e66ae78232",
   "metadata": {
    "editable": true,
    "slideshow": {
     "slide_type": ""
    },
    "tags": []
   },
   "source": [
    "```{code} cpp\n",
    "int main()\n",
    "{\n",
    "}\n",
    "```\n",
    "main() is a function, we will cover functions properly next week. Briefly the function has a name ‘main’, it returns an integer (int), it takes no inputs, hence empty parens (), and (usually) must return what is stated i.e. an integer, although in this case you can drop the return altogether."
   ]
  },
  {
   "cell_type": "code",
   "execution_count": null,
   "id": "265c21b7-dec4-4e2e-aa67-337965f6fa15",
   "metadata": {
    "editable": true,
    "slideshow": {
     "slide_type": ""
    },
    "tags": []
   },
   "outputs": [],
   "source": []
  },
  {
   "cell_type": "code",
   "execution_count": null,
   "id": "7e754eaf-976f-4f91-8105-4f85abebc65e",
   "metadata": {},
   "outputs": [],
   "source": []
  },
  {
   "cell_type": "code",
   "execution_count": null,
   "id": "bd3e1835-9dbe-4c98-b406-edafe5ddcc3e",
   "metadata": {},
   "outputs": [],
   "source": []
  },
  {
   "cell_type": "code",
   "execution_count": null,
   "id": "527aacd0-cd11-4cfc-8cd4-a52b006b455a",
   "metadata": {},
   "outputs": [],
   "source": []
  },
  {
   "cell_type": "code",
   "execution_count": null,
   "id": "70380480-a4b3-4b2a-9c35-8feb59af4864",
   "metadata": {},
   "outputs": [],
   "source": []
  }
 ],
 "metadata": {
  "kernelspec": {
   "display_name": "C++ 20",
   "language": "c++",
   "name": "cpp20"
  },
  "language_info": {
   "file_extension": ".cpp",
   "mimetype": "text/x-c++src",
   "name": "C++",
   "version": "1.0.0a9"
  },
  "widgets": {
   "application/vnd.jupyter.widget-state+json": {
    "state": {},
    "version_major": 2,
    "version_minor": 0
   },
   "file_extension": ".cpp",
   "pygments_lexer": "c++"
  }
 },
 "nbformat": 4,
 "nbformat_minor": 5
}