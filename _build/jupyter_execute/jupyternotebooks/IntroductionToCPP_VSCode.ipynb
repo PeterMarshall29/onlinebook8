{
 "cells": [
  {
   "cell_type": "markdown",
   "id": "a4b8b00c-e6af-4ea1-983b-70eda9d8701b",
   "metadata": {},
   "source": [
    "# Introduction to C++ in Visual Studio\n",
    "\n"
   ]
  },
  {
   "attachments": {},
   "cell_type": "markdown",
   "id": "69f86e77-25fb-4160-8461-74a401c94edd",
   "metadata": {},
   "source": [
    "Cpp is a compiled language. \n",
    "\n",
    "The code in each of the .cpp (and .h) pages in your project is first converted to an object file, a file with a .obj ending (.o) if you are linux, by the compiler, which convers the basically readable c++ code into machine language – in an object file.\n",
    "\n",
    "The cpp source code is platform agnostic – but the object and executable files are not portable amongst platforms – even amongst generations.\n",
    "\n",
    "The collection of object files are then linked together by the linker into an executable file;  .exe in windows or .app etc.. \n",
    "\n",
    "Other useful extensions: .lib for library files,  .a for archive file (similar to library), .so for shared object files (like libraries), .c for c source code,  .cc for c with classes,  .hpp for header for cpp not also c.\n"
   ]
  },
  {
   "cell_type": "markdown",
   "id": "4ab18cad-b489-4205-89ad-a9888729eba3",
   "metadata": {},
   "source": [
    "<h2> Source and Header files</h2>   "
   ]
  },
  {
   "attachments": {},
   "cell_type": "markdown",
   "id": "1a3718ba-ec90-4637-a43d-9f01287bb179",
   "metadata": {},
   "source": [
    "Header files with a .h, .hpp or .hxx extension,  are sources files that containing entity declarations and/or definitions that need to be visible to multiple translation units (see below). \n",
    "\n",
    "Each file with the extension .c, .cpp or .cxx defines a translation unit. \n",
    "\n",
    "The C and C++ compilers only compile a single file at a time. \n",
    "\n",
    "Source files may include header files, which are substituted in place for the #include statement and other directives by the preprocessor, resulting in a single \"file\" which is then fed to the compiler. \n",
    "\n",
    "The source file must contain all type and all object declarations that are referenced, which is the meaning of the undeclared reference compiler error. \n",
    "\n",
    "Note that it only requires complete declarations to succeed; definitions are handled at a later stage in the build process.\n",
    "\n",
    "Resource files are things like pictures, bitmaps, mp"
   ]
  },
  {
   "cell_type": "markdown",
   "id": "1cf30cfd-7c1d-4788-956b-3d8e0dd3248a",
   "metadata": {},
   "source": [
    "<h2> Resource Files </h2>   "
   ]
  },
  {
   "cell_type": "markdown",
   "id": "e02af5a2-6ea8-471c-9b4c-45082329953d",
   "metadata": {},
   "source": [
    "Resource files are platform specific. \n",
    "In the case of Microsoft Windows and Microsoft Visual Studio, they define non-code resources such as cursors, icons, bitmap images, string tables and so forth that can be included in the output binary executable. \n",
    "\n",
    "A resource script, extension .rc, declares the type, name and location (filename) of the resources to include. \n",
    "\n",
    "An optional resource header provides a mnemonic mapping of the resource name to numeric identifiers for use within your program header and source files. \n",
    "\n",
    "The resource compiler, RC.exe, is run to build a resource file from resource script and physical resources (bitmap files, icon files, etc). This resource file has the extension .res."
   ]
  },
  {
   "cell_type": "code",
   "execution_count": null,
   "id": "69c06142-c721-4d85-b0ce-58594c7784a3",
   "metadata": {},
   "outputs": [],
   "source": []
  }
 ],
 "metadata": {
  "kernelspec": {
   "display_name": "C++ 20",
   "language": "c++",
   "name": "cpp20"
  },
  "language_info": {
   "file_extension": ".cpp",
   "mimetype": "text/x-c++src",
   "name": "C++",
   "version": "1.0.0a9"
  },
  "widgets": {
   "application/vnd.jupyter.widget-state+json": {
    "state": {},
    "version_major": 2,
    "version_minor": 0
   }
  }
 },
 "nbformat": 4,
 "nbformat_minor": 5
}