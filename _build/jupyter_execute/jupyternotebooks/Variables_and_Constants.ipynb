{
 "cells": [
  {
   "cell_type": "markdown",
   "id": "dee859cf-01bc-48a5-85a0-a72fbc9b42fb",
   "metadata": {},
   "source": [
    "# Declaration of Variables and Constants\n"
   ]
  },
  {
   "cell_type": "code",
   "execution_count": null,
   "id": "7ba43ce7-2f68-4605-b123-e9d906505bbe",
   "metadata": {},
   "outputs": [],
   "source": []
  }
 ],
 "metadata": {
  "kernelspec": {
   "display_name": "C++ 20",
   "language": "c++",
   "name": "cpp20"
  },
  "language_info": {
   "file_extension": ".cpp",
   "mimetype": "text/x-c++src",
   "name": "C++",
   "version": "1.0.0a9"
  },
  "widgets": {
   "application/vnd.jupyter.widget-state+json": {
    "state": {},
    "version_major": 2,
    "version_minor": 0
   }
  }
 },
 "nbformat": 4,
 "nbformat_minor": 5
}