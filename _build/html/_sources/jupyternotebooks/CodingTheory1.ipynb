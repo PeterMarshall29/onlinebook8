{
 "cells": [
  {
   "attachments": {},
   "cell_type": "markdown",
   "id": "6de237d4-6f43-484d-ab11-63f3e029bc48",
   "metadata": {},
   "source": [
    "# Basic Concepts of Programming"
   ]
  },
  {
   "attachments": {},
   "cell_type": "markdown",
   "id": "72c1e68d-deeb-4a15-a715-ec808532a9cb",
   "metadata": {},
   "source": [
    "There are many types of error, but three classifications to understand at this point are:\n",
    "\n",
    "Compile time – found by compiler – easily fixed.\n",
    "\n",
    "Link-time errors found by linker – more difficult. \n",
    "\n",
    "Run-time errors, or logic errors, occur after successful creation of the .exe file. Too late to fix – people have died!"
   ]
  },
  {
   "cell_type": "code",
   "execution_count": null,
   "id": "c465fa48-a71d-4515-8829-11c1a27a9d3b",
   "metadata": {},
   "outputs": [],
   "source": []
  }
 ],
 "metadata": {
  "kernelspec": {
   "display_name": "C++ 20",
   "language": "c++",
   "name": "cpp20"
  },
  "language_info": {
   "file_extension": ".cpp",
   "mimetype": "text/markdown",
   "name": "C++",
   "version": "1.0.0a9"
  },
  "widgets": {
   "application/vnd.jupyter.widget-state+json": {
    "state": {},
    "version_major": 2,
    "version_minor": 0
   }
  }
 },
 "nbformat": 4,
 "nbformat_minor": 5
}
