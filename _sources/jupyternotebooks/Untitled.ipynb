{
 "cells": [
  {
   "cell_type": "code",
   "execution_count": null,
   "id": "3d72ffd6-f059-4098-ae88-4f288c9c8947",
   "metadata": {},
   "outputs": [],
   "source": []
  }
 ],
 "metadata": {
  "kernelspec": {
   "display_name": "",
   "name": ""
  },
  "language_info": {
   "name": ""
  }
 },
 "nbformat": 4,
 "nbformat_minor": 5
}
